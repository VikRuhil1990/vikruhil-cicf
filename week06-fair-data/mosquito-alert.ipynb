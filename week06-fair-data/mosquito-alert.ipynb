{
 "cells": [
  {
   "cell_type": "code",
   "execution_count": 1,
   "id": "3c23bbfc-8ef4-4450-b77e-1fa8435c5bd9",
   "metadata": {},
   "outputs": [],
   "source": [
    "import matplotlib as plot\n",
    "import pandas as pd"
   ]
  },
  {
   "cell_type": "code",
   "execution_count": 7,
   "id": "eb048f2d-6b1d-4402-b39c-c9704c314941",
   "metadata": {},
   "outputs": [],
   "source": [
    "df = pd.read_csv(\"Mosquito-Alert-sampling_effort_data-0b57d8f/sampling_effort_daily_cellres_05.csv\")"
   ]
  },
  {
   "cell_type": "code",
   "execution_count": 8,
   "id": "a8c18261-5cbc-47cc-a3ac-0b7bbbcf8f07",
   "metadata": {},
   "outputs": [
    {
     "data": {
      "text/html": [
       "<div>\n",
       "<style scoped>\n",
       "    .dataframe tbody tr th:only-of-type {\n",
       "        vertical-align: middle;\n",
       "    }\n",
       "\n",
       "    .dataframe tbody tr th {\n",
       "        vertical-align: top;\n",
       "    }\n",
       "\n",
       "    .dataframe thead th {\n",
       "        text-align: right;\n",
       "    }\n",
       "</style>\n",
       "<table border=\"1\" class=\"dataframe\">\n",
       "  <thead>\n",
       "    <tr style=\"text-align: right;\">\n",
       "      <th></th>\n",
       "      <th>TigacellID</th>\n",
       "      <th>date</th>\n",
       "      <th>n_participants</th>\n",
       "      <th>SE_expected</th>\n",
       "      <th>SE</th>\n",
       "      <th>masked_lon</th>\n",
       "      <th>masked_lat</th>\n",
       "      <th>n_reports_bite</th>\n",
       "      <th>n_reports_albopictus</th>\n",
       "      <th>n_reports_culex</th>\n",
       "      <th>n_reports_japonicus</th>\n",
       "      <th>n_reports_aegypti</th>\n",
       "      <th>n_reports_koreicus</th>\n",
       "      <th>n_reporters_bite</th>\n",
       "      <th>n_reporters_albopictus</th>\n",
       "      <th>n_reporters_culex</th>\n",
       "      <th>n_reporters_japonicus</th>\n",
       "      <th>n_reporters_aegypti</th>\n",
       "      <th>n_reporters_koreicus</th>\n",
       "    </tr>\n",
       "  </thead>\n",
       "  <tbody>\n",
       "    <tr>\n",
       "      <th>0</th>\n",
       "      <td>-0.05_-0.1</td>\n",
       "      <td>2024-10-08</td>\n",
       "      <td>1</td>\n",
       "      <td>0.101768</td>\n",
       "      <td>0.101768</td>\n",
       "      <td>-0.05</td>\n",
       "      <td>-0.10</td>\n",
       "      <td>1</td>\n",
       "      <td>0</td>\n",
       "      <td>0</td>\n",
       "      <td>0</td>\n",
       "      <td>0</td>\n",
       "      <td>0</td>\n",
       "      <td>1</td>\n",
       "      <td>0</td>\n",
       "      <td>0</td>\n",
       "      <td>0</td>\n",
       "      <td>0</td>\n",
       "      <td>0</td>\n",
       "    </tr>\n",
       "    <tr>\n",
       "      <th>1</th>\n",
       "      <td>-0.05_-1.1</td>\n",
       "      <td>2024-08-01</td>\n",
       "      <td>1</td>\n",
       "      <td>0.101768</td>\n",
       "      <td>0.101768</td>\n",
       "      <td>-0.05</td>\n",
       "      <td>-1.10</td>\n",
       "      <td>1</td>\n",
       "      <td>0</td>\n",
       "      <td>0</td>\n",
       "      <td>0</td>\n",
       "      <td>0</td>\n",
       "      <td>0</td>\n",
       "      <td>1</td>\n",
       "      <td>0</td>\n",
       "      <td>0</td>\n",
       "      <td>0</td>\n",
       "      <td>0</td>\n",
       "      <td>0</td>\n",
       "    </tr>\n",
       "    <tr>\n",
       "      <th>2</th>\n",
       "      <td>-0.05_-1.5</td>\n",
       "      <td>2024-11-01</td>\n",
       "      <td>1</td>\n",
       "      <td>0.101768</td>\n",
       "      <td>0.101768</td>\n",
       "      <td>-0.05</td>\n",
       "      <td>-1.50</td>\n",
       "      <td>1</td>\n",
       "      <td>0</td>\n",
       "      <td>0</td>\n",
       "      <td>0</td>\n",
       "      <td>0</td>\n",
       "      <td>0</td>\n",
       "      <td>1</td>\n",
       "      <td>0</td>\n",
       "      <td>0</td>\n",
       "      <td>0</td>\n",
       "      <td>0</td>\n",
       "      <td>0</td>\n",
       "    </tr>\n",
       "    <tr>\n",
       "      <th>3</th>\n",
       "      <td>-0.05_0.05</td>\n",
       "      <td>2024-06-22</td>\n",
       "      <td>1</td>\n",
       "      <td>0.101768</td>\n",
       "      <td>0.101768</td>\n",
       "      <td>-0.05</td>\n",
       "      <td>0.05</td>\n",
       "      <td>1</td>\n",
       "      <td>0</td>\n",
       "      <td>0</td>\n",
       "      <td>0</td>\n",
       "      <td>0</td>\n",
       "      <td>0</td>\n",
       "      <td>1</td>\n",
       "      <td>0</td>\n",
       "      <td>0</td>\n",
       "      <td>0</td>\n",
       "      <td>0</td>\n",
       "      <td>0</td>\n",
       "    </tr>\n",
       "    <tr>\n",
       "      <th>4</th>\n",
       "      <td>-0.05_0.2</td>\n",
       "      <td>2024-06-25</td>\n",
       "      <td>1</td>\n",
       "      <td>0.019058</td>\n",
       "      <td>0.019058</td>\n",
       "      <td>-0.05</td>\n",
       "      <td>0.20</td>\n",
       "      <td>1</td>\n",
       "      <td>0</td>\n",
       "      <td>0</td>\n",
       "      <td>0</td>\n",
       "      <td>0</td>\n",
       "      <td>0</td>\n",
       "      <td>1</td>\n",
       "      <td>0</td>\n",
       "      <td>0</td>\n",
       "      <td>0</td>\n",
       "      <td>0</td>\n",
       "      <td>0</td>\n",
       "    </tr>\n",
       "  </tbody>\n",
       "</table>\n",
       "</div>"
      ],
      "text/plain": [
       "   TigacellID        date  n_participants  SE_expected        SE  masked_lon  \\\n",
       "0  -0.05_-0.1  2024-10-08               1     0.101768  0.101768       -0.05   \n",
       "1  -0.05_-1.1  2024-08-01               1     0.101768  0.101768       -0.05   \n",
       "2  -0.05_-1.5  2024-11-01               1     0.101768  0.101768       -0.05   \n",
       "3  -0.05_0.05  2024-06-22               1     0.101768  0.101768       -0.05   \n",
       "4   -0.05_0.2  2024-06-25               1     0.019058  0.019058       -0.05   \n",
       "\n",
       "   masked_lat  n_reports_bite  n_reports_albopictus  n_reports_culex  \\\n",
       "0       -0.10               1                     0                0   \n",
       "1       -1.10               1                     0                0   \n",
       "2       -1.50               1                     0                0   \n",
       "3        0.05               1                     0                0   \n",
       "4        0.20               1                     0                0   \n",
       "\n",
       "   n_reports_japonicus  n_reports_aegypti  n_reports_koreicus  \\\n",
       "0                    0                  0                   0   \n",
       "1                    0                  0                   0   \n",
       "2                    0                  0                   0   \n",
       "3                    0                  0                   0   \n",
       "4                    0                  0                   0   \n",
       "\n",
       "   n_reporters_bite  n_reporters_albopictus  n_reporters_culex  \\\n",
       "0                 1                       0                  0   \n",
       "1                 1                       0                  0   \n",
       "2                 1                       0                  0   \n",
       "3                 1                       0                  0   \n",
       "4                 1                       0                  0   \n",
       "\n",
       "   n_reporters_japonicus  n_reporters_aegypti  n_reporters_koreicus  \n",
       "0                      0                    0                     0  \n",
       "1                      0                    0                     0  \n",
       "2                      0                    0                     0  \n",
       "3                      0                    0                     0  \n",
       "4                      0                    0                     0  "
      ]
     },
     "execution_count": 8,
     "metadata": {},
     "output_type": "execute_result"
    }
   ],
   "source": [
    "df.head()"
   ]
  },
  {
   "cell_type": "code",
   "execution_count": 9,
   "id": "22b9fda7-779c-4909-baf2-e89163e0fa71",
   "metadata": {},
   "outputs": [
    {
     "name": "stdout",
     "output_type": "stream",
     "text": [
      "<class 'pandas.core.frame.DataFrame'>\n",
      "RangeIndex: 723133 entries, 0 to 723132\n",
      "Data columns (total 19 columns):\n",
      " #   Column                  Non-Null Count   Dtype  \n",
      "---  ------                  --------------   -----  \n",
      " 0   TigacellID              723133 non-null  object \n",
      " 1   date                    723133 non-null  object \n",
      " 2   n_participants          723133 non-null  int64  \n",
      " 3   SE_expected             723132 non-null  float64\n",
      " 4   SE                      723132 non-null  float64\n",
      " 5   masked_lon              723133 non-null  float64\n",
      " 6   masked_lat              723133 non-null  float64\n",
      " 7   n_reports_bite          723133 non-null  int64  \n",
      " 8   n_reports_albopictus    723133 non-null  int64  \n",
      " 9   n_reports_culex         723133 non-null  int64  \n",
      " 10  n_reports_japonicus     723133 non-null  int64  \n",
      " 11  n_reports_aegypti       723133 non-null  int64  \n",
      " 12  n_reports_koreicus      723133 non-null  int64  \n",
      " 13  n_reporters_bite        723133 non-null  int64  \n",
      " 14  n_reporters_albopictus  723133 non-null  int64  \n",
      " 15  n_reporters_culex       723133 non-null  int64  \n",
      " 16  n_reporters_japonicus   723133 non-null  int64  \n",
      " 17  n_reporters_aegypti     723133 non-null  int64  \n",
      " 18  n_reporters_koreicus    723133 non-null  int64  \n",
      "dtypes: float64(4), int64(13), object(2)\n",
      "memory usage: 104.8+ MB\n"
     ]
    }
   ],
   "source": [
    "df.info()"
   ]
  },
  {
   "cell_type": "code",
   "execution_count": 10,
   "id": "4590d2b3-5ed8-4955-b7b7-e250089e0900",
   "metadata": {},
   "outputs": [
    {
     "data": {
      "text/plain": [
       "<Axes: >"
      ]
     },
     "execution_count": 10,
     "metadata": {},
     "output_type": "execute_result"
    },
    {
     "data": {
      "image/png": "[encoded data removed]",
      "text/plain": [
       "<Figure size 640x480 with 1 Axes>"
      ]
     },
     "metadata": {},
     "output_type": "display_data"
    }
   ],
   "source": [
    "df['masked_lon'].hist()"
   ]
  },
  {
   "cell_type": "code",
   "execution_count": 11,
   "id": "75db496f-9cb8-43c0-b4a2-574dc815afc3",
   "metadata": {},
   "outputs": [
    {
     "data": {
      "text/plain": [
       "<Axes: >"
      ]
     },
     "execution_count": 11,
     "metadata": {},
     "output_type": "execute_result"
    },
    {
     "data": {
      "image/png": "[encoded data removed]",
      "text/plain": [
       "<Figure size 640x480 with 1 Axes>"
      ]
     },
     "metadata": {},
     "output_type": "display_data"
    }
   ],
   "source": [
    "df['masked_lat'].hist()"
   ]
  },
  {
   "cell_type": "code",
   "execution_count": 13,
   "id": "65888e38-21b1-47cd-801b-dd13cd19b9e5",
   "metadata": {},
   "outputs": [
    {
     "data": {
      "text/plain": [
       "<Axes: >"
      ]
     },
     "execution_count": 13,
     "metadata": {},
     "output_type": "execute_result"
    },
    {
     "data": {
      "image/png": "[encoded data removed]",
      "text/plain": [
       "<Figure size 640x480 with 1 Axes>"
      ]
     },
     "metadata": {},
     "output_type": "display_data"
    }
   ],
   "source": [
    "df[df['n_reports_aegypti'] > 0]['masked_lat'].hist()"
   ]
  },
  {
   "cell_type": "code",
   "execution_count": null,
   "id": "8a0fda23-06b8-4a6a-874a-cdf5ff66fcdb",
   "metadata": {},
   "outputs": [],
   "source": []
  }
 ],
 "metadata": {
  "kernelspec": {
   "display_name": "Python 3 (ipykernel)",
   "language": "python",
   "name": "python3"
  },
  "language_info": {
   "codemirror_mode": {
    "name": "ipython",
    "version": 3
   },
   "file_extension": ".py",
   "mimetype": "text/x-python",
   "name": "python",
   "nbconvert_exporter": "python",
   "pygments_lexer": "ipython3",
   "version": "3.13.2"
  }
 },
 "nbformat": 4,
 "nbformat_minor": 5
}
