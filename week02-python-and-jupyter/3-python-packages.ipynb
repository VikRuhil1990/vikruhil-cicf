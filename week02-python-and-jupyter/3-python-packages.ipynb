{
  "cells": [
    {
      "cell_type": "markdown",
      "metadata": {},
      "source": [
        "# Python packages\n",
        "\n",
        "Python took over the world in large part because of the thousands of\n",
        "packages available. A \"package\" is a bunch of code that does something\n",
        "specific, does it well, and (almost) never has to be messed with. It's\n",
        "wrapped up and can be treated like it's just adding something useful\n",
        "to the language.\n",
        "\n",
        "The first thing you have to do is tell Python you want to use one of\n",
        "these packages. Let's use the \"random\" package to generate some random\n",
        "numbers:"
      ]
    },
    {
      "cell_type": "code",
      "metadata": {},
      "source": [
        "import random"
      ],
      "execution_count": null,
      "outputs": []
    },
    {
      "cell_type": "markdown",
      "metadata": {},
      "source": [
        "Now, we can use the \"random\" method in the random package to generate\n",
        "random numbers:"
      ]
    },
    {
      "cell_type": "code",
      "metadata": {},
      "source": [
        "print(random.random())\n",
        "print(random.random())\n",
        "print(random.random())"
      ],
      "execution_count": null,
      "outputs": []
    },
    {
      "cell_type": "markdown",
      "metadata": {},
      "source": [
        "That generates random numbers between zero and one. There are plenty\n",
        "of other functions in the random package to do things like generate\n",
        "random integers between two values or to randomly shuffle the items in\n",
        "a list.\n",
        "\n",
        "The following part on numpy is the work of Don - I owe him a favor. :-)\n",
        "\n",
        "\"random\" is an example of a built-in package. Python comes with it\n",
        "when it's installed. There are other packages that you would have to\n",
        "download to use. Let's look at an example very useful for scientific\n",
        "computing: numpy. Numpy is a package for making numerically-intensive\n",
        "programming easier and for making it run faster. It brings it's own\n",
        "datatype to the game: an actual array!  Numpy's arrays are quite fast\n",
        "- substantially faster than Python's regular way of representing\n",
        "arrays as \"lists of lists\" (or in three dimensions, \"lists of lists of\n",
        "lists\" and so forth.\n",
        "\n",
        "First, let's tell Python we want to use numpy:"
      ]
    },
    {
      "cell_type": "code",
      "metadata": {},
      "source": [
        "import numpy as np"
      ],
      "execution_count": null,
      "outputs": []
    },
    {
      "cell_type": "markdown",
      "metadata": {},
      "source": [
        "The \"as np\" part lets us specify a *namespace*, in this case a nice,\n",
        "short name so we don't have to type out \"numpy\" *every single time*.\n",
        "\n",
        "Now we can create an array or two..."
      ]
    },
    {
      "cell_type": "code",
      "metadata": {},
      "source": [
        "a = np.array([[1,2,3,4], [5,6,7,8], [9,10,11,12]])"
      ],
      "execution_count": null,
      "outputs": []
    },
    {
      "cell_type": "code",
      "metadata": {},
      "source": [
        "z = np.zeros(3)\n",
        "print(z)"
      ],
      "execution_count": null,
      "outputs": []
    },
    {
      "cell_type": "markdown",
      "metadata": {},
      "source": [
        "There are convenience functions to get information about the array..."
      ]
    },
    {
      "cell_type": "code",
      "metadata": {},
      "source": [
        "print(a.shape)"
      ],
      "execution_count": null,
      "outputs": []
    },
    {
      "cell_type": "code",
      "metadata": {},
      "source": [
        "print(z.shape)"
      ],
      "execution_count": null,
      "outputs": []
    },
    {
      "cell_type": "markdown",
      "metadata": {},
      "source": [
        "The \"shape\" property tells us how many elements there are in each dimension, and the number of values separated by commas tell use how many dimensions the array has.\n",
        "\n",
        "(OK, I lied. Shape returns a \"tuple\" that describes the array and we're printing that out. A tuple is like a list.)\n",
        "\n",
        "Let's do a little bit of linear algebra. We'll need to bring in the\n",
        "\"linalg\" part of numpy and we'll use the name \"nl\" as a shorthand."
      ]
    },
    {
      "cell_type": "code",
      "metadata": {},
      "source": [
        "k = np.array( [ [1,1,1], [1,1,0], [1,0,0] ] )\n",
        "\n",
        "import numpy.linalg as nl\n",
        "kinv = nl.inv(k)\n",
        "kinv"
      ],
      "execution_count": null,
      "outputs": []
    },
    {
      "cell_type": "markdown",
      "metadata": {},
      "source": [
        "Matrix multiplication, anyone? Python has the \"@\" operator for exactly\n",
        "that:"
      ]
    },
    {
      "cell_type": "code",
      "metadata": {},
      "source": [
        "k @ kinv"
      ],
      "execution_count": null,
      "outputs": []
    },
    {
      "cell_type": "markdown",
      "metadata": {},
      "source": [
        "For a complete list of operators, see: http://docs.python.org/library/operator.html#mapping-operators-to-functions\n",
        "\n",
        "We've just scratched the surface of what numpy can do. Imagine how\n",
        "much the other thousands of Python packages can do!  The nice thing\n",
        "about software development, when it's done correctly, is that pieces\n",
        "build on top of other pieces. The \"SciPy\" package, for instance, has\n",
        "modules for integration, differentiation, linear algebra (because you\n",
        "can't have too much linear algebra, amiright?), signal processing,\n",
        "image processing (yes, a special case of signal processing)... lots of\n",
        "stuff.  Lots of packages then build on top of SciPy.\n",
        "\n",
        "Hey, remember Don Stanzione talking about accelerating computing with\n",
        "GPUs?  I remember it like it was only last week.  Anyway, there is a\n",
        "mostly-complete version of NumPy and SciPy that makes your program use\n",
        "the GPU, at least if it's an Nvidia one. It's called CuPy. For AMD,\n",
        "Intel, and a few other GPUs designers, there is ClPy (that's a lower\n",
        "case \"ell\"). Just switching which packages you import and changing\n",
        "just a little bit you can speed your code up *by several times*.  If\n",
        "your code is doing a lot of linear algebra, for instance (and\n",
        "honestly, *who's isn't?*) then it can make a big difference.\n"
      ]
    }
  ],
  "metadata": {
    "kernelspec": {
      "name": "python3",
      "language": "python",
      "display_name": "Python 3 (ipykernel)"
    }
  },
  "nbformat": 4,
  "nbformat_minor": 4
}