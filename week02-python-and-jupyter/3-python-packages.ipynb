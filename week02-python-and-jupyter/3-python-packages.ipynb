{
 "cells": [
  {
   "cell_type": "markdown",
   "metadata": {},
   "source": [
    "# Python packages\n",
    "\n",
    "Python became very popular in recent years partly because of the\n",
    "thousands of packages available.\n",
    "\n",
    "A \"package\" is a collection of Python code that you can use to\n",
    "accomplish certain tasks.  Packages can contain libraries, application\n",
    "programs, or both.  A Python library is a collection of code that\n",
    "people can use when writing new applications or new libraries.\n",
    "\n",
    "When you install Python, a set of libraries called the [Python\n",
    "standard library][stdlib] also gets installed.  Python is said to be a\n",
    "\"batteries included\" programming language, because its standard\n",
    "library is useful to accomplish many common tasks related to:\n",
    "\n",
    "- Working with text, math, time, dates, etc.;\n",
    "- Working with various data structures (such as lists, dicts, sets,\n",
    "  and tuples);\n",
    "- Reading and writing files;\n",
    "- Reading and writing data from networked systems;\n",
    "- Working with processes and threads;\n",
    "- Working with the operating system; \n",
    "- Debugging and profiling; and\n",
    "- Much more!\n",
    "\n",
    "[stdlib]: https://docs.python.org/3/library/index.html\n",
    "\n",
    "### Python modules and packages\n",
    "\n",
    "We talked a bit about modules in the previous notebook.  Basically:\n",
    "python packages are organized as _modules_, which is essentially a\n",
    "collection of files and directories.  The files mostly contain Python\n",
    "code. Sometimes they can be other kinds of supporting files too.\n",
    "\n",
    "## An example: using `random` module\n",
    "\n",
    "As noted above, when you install Python, you get the Python standard\n",
    "library also, which is a collection of useful modules.  Let us look at\n",
    "an example of generating random numbers using Python standard library.\n",
    "\n",
    "The first thing you have to do is tell Python you want to use a module\n",
    "called `random`, using `import random`.  In order to generate random\n",
    "numbers, we can use the `random()` function from the `random`\n",
    "module. Try running the below code cell:"
   ]
  },
  {
   "cell_type": "code",
   "execution_count": 1,
   "metadata": {},
   "outputs": [
    {
     "name": "stdout",
     "output_type": "stream",
     "text": [
      "0.4082188985690235\n",
      "0.9489179159858027\n",
      "0.5284767468227093\n"
     ]
    }
   ],
   "source": [
    "import random\n",
    "\n",
    "print(random.random())\n",
    "print(random.random())\n",
    "print(random.random())"
   ]
  },
  {
   "cell_type": "markdown",
   "metadata": {},
   "source": [
    "That generates random numbers between zero and one. There are plenty\n",
    "of other functions in the random package to do things like generate\n",
    "random integers between two values or to randomly shuffle the items in\n",
    "a list.\n",
    "\n",
    "To learn details about how to use a library, you will need to read its\n",
    "documentation.  You already know how to find documentation for\n",
    "standard library modules: we have linked to it in the beginning of\n",
    "this notebook.  Those documents might be a little confusing in the\n",
    "beginning, so it is perfectly reasonable to look for friendlier\n",
    "resources.\n",
    "\n",
    "## Another example: using the `requests` library\n",
    "\n",
    "Sometimes using an external package might make things easier.\n",
    "Sometimes when people work on Python code that other people might find\n",
    "useful, they package and publish their work in an installable form.\n",
    "\n",
    "An example package would be the popular `requests` library, which\n",
    "makes interacting with web sites easier.  In order to use `requests`\n",
    "in your code, you would install it (with `pip install requests`\n",
    "perhaps), and then use an `import requests` statement in your program\n",
    "to use modules from the requests library, and then call functions from\n",
    "the module:"
   ]
  },
  {
   "cell_type": "code",
   "execution_count": 2,
   "metadata": {},
   "outputs": [
    {
     "name": "stdout",
     "output_type": "stream",
     "text": [
      "Respnse status code:  200\n",
      "Response headers:  {'Date': 'Thu, 24 Apr 2025 13:41:45 GMT', 'Expires': '-1', 'Cache-Control': 'private, max-age=0', 'Content-Type': 'text/html; charset=ISO-8859-1', 'Content-Security-Policy-Report-Only': \"object-src 'none';base-uri 'self';script-src 'nonce-56W2H3X4ub5dkBZs319sGA' 'strict-dynamic' 'report-sample' 'unsafe-eval' 'unsafe-inline' https: http:;report-uri https://csp.withgoogle.com/csp/gws/other-hp\", 'Accept-CH': 'Sec-CH-Prefers-Color-Scheme', 'P3P': 'CP=\"This is not a P3P policy! See g.co/p3phelp for more info.\"', 'Content-Encoding': 'gzip', 'Server': 'gws', 'X-XSS-Protection': '0', 'X-Frame-Options': 'SAMEORIGIN', 'Set-Cookie': 'SOCS=CAAaBgiA_qXABg; expires=Sun, 24-May-2026 13:41:45 GMT; path=/; domain=.google.com; Secure; SameSite=lax, AEC=AVcja2ewoIj_Uy_E6W7rKgId5qIz-xFGW1MhwwhL2_qIuBQZRpkeVJnb7Q; expires=Tue, 21-Oct-2025 13:41:45 GMT; path=/; domain=.google.com; Secure; HttpOnly; SameSite=lax, __Secure-ENID=27.SE=OxOtCcnS5SSR-i0lwqtPTGAQSVLz7nkFMT_LR1kzS2SwBibqMrORhBa4RlD4bQKtZ86rNvAQB61lHZRwL1rYwtx24K-BRcXvRhERgdKnkhLrlYS05Uso5owyLzfEbMqqJsD1orqK2X8PR4p8X-mqO2JhmjUoHmzDtdfZC9Lm5xmJ-xzP9JEJdwx7olnX0TmZ6_FvZYNHtM9vmJAb5-U780bgBajiYFs37GkARbjzUPOiROc7ofIn9qPNmeXRvuy7ng; expires=Mon, 25-May-2026 06:00:03 GMT; path=/; domain=.google.com; Secure; HttpOnly; SameSite=lax', 'Alt-Svc': 'h3=\":443\"; ma=2592000,h3-29=\":443\"; ma=2592000', 'Transfer-Encoding': 'chunked'}\n",
      "Response text:  <!doctype html><html itemscope=\"\" itemtype=\"http://schema.org/WebPage\" lang=\"nl\"><head><meta content=\"text/html; charset=UTF-8\" http-equiv=\"Content-Type\"><meta content=\"/logos/doodles/2025/rise-of-the-half-moon-april-6753651837110767.2-l.png\" itemprop=\"image\"><meta content=\"Opkomst van de halve maan\" property=\"twitter:title\"><meta content=\"Opkomst van de halve maan! #GoogleDoodle\" property=\"twitter:description\"><meta content=\"Opkomst van de halve maan! #GoogleDoodle\" property=\"og:description\"><meta content=\"summary_large_image\" property=\"twitter:card\"><meta content=\"@GoogleDoodles\" property=\"twitter:site\"><meta content=\"https://www.google.com/logos/doodles/2025/rise-of-the-half-moon-april-6753651837110767.2-2xa.gif\" property=\"twitter:image\"><meta content=\"https://www.google.com/logos/doodles/2025/rise-of-the-half-moon-april-6753651837110767.2-2xa.gif\" property=\"og:image\"><meta content=\"1000\" property=\"og:image:width\"><meta content=\"400\" property=\"og:image:height\"><meta content=\"https://www.google.com/logos/doodles/2025/rise-of-the-half-moon-april-6753651837110767.2-2xa.gif\" property=\"og:url\"><meta content=\"video.other\" property=\"og:type\"><title>Google</title><script nonce=\"56W2H3X4ub5dkBZs319sGA\">(function(){var _g={kEI:'mT8KaITADID8ptQPxbaR0QE',kEXPI:'0,202791,47,3497424,687,435,538661,6325,72488,16105,344796,94243,153076,23156,19569,5241682,106,86,67,16272627,16496047,4043709,25228681,11556,105751,20961,79285,6749,23880,9138,4599,328,6226,24366,29823,20,9247,709,15048,15635,103518,3432,47,1819,4106,352,7384,4397,7099,6820,2147,4617,5773,4311,9171,1427,1743,143,4850,3305,2662,4719,837,9333,1635,2808,453,458,1076,15,1,1440,35,3420,3757,1911,2934,1675,3207,569,11184,354,658,609,2438,1533,445,99,3505,1083,6002,4602,1460,1148,894,2583,2711,651,228,1442,201,3928,1130,598,1054,81,704,5,3438,117,2,1,2,2,2,3,2463,517,616,803,181,516,3162,997,2454,300,344,10,433,158,3,309,600,2,557,1,1242,238,1131,2362,635,5,3818,393,627,1,752,302,376,238,2,923,870,2,201,724,725,353,468,17,566,4,130,241,151,520,15,1,64,7,160,229,548,74,208,5,284,235,198,392,520,64,94,475,1103,715,307,905,724,1650,205,1294,41,556,21,368,859,40,186,2,36,73,16,49,5,176,502,2,3,2,2,2,701,310,593,677,63,79,110,290,338,286,65,248,25,908,53,165,258,157,3,531,71,438,3,53,19,60,268,26,26,1,1,603,502,483,39,253,266,586,19,5,562,225,4,275,2,307,623,64,115,185,482,418,166,648,677,256,144,3,543,778,49,20888550,375836,4,28852,18,4540,8,5639,1182,5,2008,2341,473,608,3375,83,108,881,3,209,203,15,463,2108,6024075',kBL:'j6zN',kOPI:89978449};(function(){var a;((a=window.google)==null?0:a.stvsc)?google.kEI=_g.kEI:window.google=_g;}).call(this);})();(function(){google.sn='webhp';google.kHL='nl';})();(function(){\n",
      "var g=this||self;function k(){return window.google&&window.google.kOPI||null};var l,m=[];function n(a){for(var b;a&&(!a.getAttribute||!(b=a.getAttribute(\"eid\")));)a=a.parentNode;return b||l}function p(a){for(var b=null;a&&(!a.getAttribute||!(b=a.getAttribute(\"leid\")));)a=a.parentNode;return b}function q(a){/^http:/i.test(a)&&window.location.protocol===\"https:\"&&(google.ml&&google.ml(Error(\"a\"),!1,{src:a,glmm:1}),a=\"\");return a}\n",
      "function r(a,b,d,c,h){var e=\"\";b.search(\"&ei=\")===-1&&(e=\"&ei=\"+n(c),b.search(\"&lei=\")===-1&&(c=p(c))&&(e+=\"&lei=\"+c));var f=b.search(\"&cshid=\")===-1&&a!==\"slh\";c=\"&zx=\"+Date.now().toString();g._cshid&&f&&(c+=\"&cshid=\"+g._cshid);(d=d())&&(c+=\"&opi=\"+d);return\"/\"+(h||\"gen_204\")+\"?atyp=i&ct=\"+String(a)+\"&cad=\"+(b+e+c)};l=google.kEI;google.getEI=n;google.getLEI=p;google.ml=function(){return null};google.log=function(a,b,d,c,h,e){e=e===void 0?k:e;d||(d=r(a,b,e,c,h));if(d=q(d)){a=new Image;var f=m.length;m[f]=a;a.onerror=a.onload=a.onabort=function(){delete m[f]};a.src=d}};google.logUrl=function(a,b){b=b===void 0?k:b;return r(\"\",a,b)};}).call(this);(function(){google.y={};google.sy=[];var d;(d=google).x||(d.x=function(a,b){if(a)var c=a.id;else{do c=Math.random();while(google.y[c])}google.y[c]=[a,b];return!1});var e;(e=google).sx||(e.sx=function(a){google.sy.push(a)});google.lm=[];var f;(f=google).plm||(f.plm=function(a){google.lm.push.apply(google.lm,a)});google.lq=[];var g;(g=google).load||(g.load=function(a,b,c){google.lq.push([[a],b,c])});var h;(h=google).loadAll||(h.loadAll=function(a,b){google.lq.push([a,b])});google.bx=!1;var k;(k=google).lx||(k.lx=function(){});var l=[],m;(m=google).fce||(m.fce=function(a,b,c,n){l.push([a,b,c,n])});google.qce=l;}).call(this);google.f={};(function(){\n",
      "document.documentElement.addEventListener(\"submit\",function(b){var a;if(a=b.target){var c=a.getAttribute(\"data-submitfalse\");a=c===\"1\"||c===\"q\"&&!a.elements.q.value?!0:!1}else a=!1;a&&(b.preventDefault(),b.stopPropagation())},!0);document.documentElement.addEventListener(\"click\",function(b){var a;a:{for(a=b.target;a&&a!==document.documentElement;a=a.parentElement)if(a.tagName===\"A\"){a=a.getAttribute(\"data-nohref\")===\"1\";break a}a=!1}a&&b.preventDefault()},!0);}).call(this);</script><style>#gbar,#guser{font-size:13px;padding-top:1px !important;}#gbar{height:22px}#guser{padding-bottom:7px !important;text-align:right}.gbh,.gbd{border-top:1px solid #c9d7f1;font-size:1px}.gbh{height:0;position:absolute;top:24px;width:100%}@media all{.gb1{height:22px;margin-right:.5em;vertical-align:top}#gbar{float:left}}a.gb1,a.gb4{text-decoration:underline !important}a.gb1,a.gb4{color:#00c !important}.gbi .gb4{color:#dd8e27 !important}.gbf .gb4{color:#900 !important}\n",
      "</style><style>body,td,a,p,.h{font-family:sans-serif}body{margin:0;overflow-y:scroll}#gog{padding:3px 8px 0}td{line-height:.8em}.gac_m td{line-height:17px}form{margin-bottom:20px}.h{color:#1967d2}em{font-weight:bold;font-style:normal}.lst{height:25px;width:496px}.gsfi,.lst{font:18px sans-serif}.gsfs{font:17px sans-serif}.ds{display:inline-box;display:inline-block;margin:3px 0 4px;margin-left:4px}input{font-family:inherit}body{background:#fff;color:#000}a{color:#681da8;text-decoration:none}a:hover,a:active{text-decoration:underline}.fl a{color:#1967d2}a:visited{color:#681da8}.sblc{padding-top:5px}.sblc a{display:block;margin:2px 0;margin-left:13px;font-size:11px}.lsbb{background:#f8f9fa;border:solid 1px;border-color:#dadce0 #70757a #70757a #dadce0;height:30px}.lsbb{display:block}#WqQANb a{display:inline-block;margin:0 12px}.lsb{background:url(/images/nav_logo229.png) 0 -261px repeat-x;color:#000;border:none;cursor:pointer;height:30px;margin:0;outline:0;font:15px sans-serif;vertical-align:top}.lsb:active{background:#dadce0}.lst:focus{outline:none}</style><script nonce=\"56W2H3X4ub5dkBZs319sGA\">(function(){window.google.erd={jsr:1,bv:2207,de:true,dpf:'0i4iZkRweGdD8o277m_SwMT_Nr6cTf6gqAR6mBWF0MY'};\n",
      "var g=this||self;var k,l=(k=g.mei)!=null?k:1,m,p=(m=g.diel)!=null?m:0,q,r=(q=g.sdo)!=null?q:!0,t=0,u,w=google.erd,x=w.jsr;google.ml=function(a,b,d,n,e){e=e===void 0?2:e;b&&(u=a&&a.message);d===void 0&&(d={});d.cad=\"ple_\"+google.ple+\".aple_\"+google.aple;if(google.dl)return google.dl(a,e,d,!0),null;b=d;if(x<0){window.console&&console.error(a,b);if(x===-2)throw a;b=!1}else b=!a||!a.message||a.message===\"Error loading script\"||t>=l&&!n?!1:!0;if(!b)return null;t++;d=d||{};b=encodeURIComponent;var c=\"/gen_204?atyp=i&ei=\"+b(google.kEI);google.kEXPI&&(c+=\"&jexpid=\"+b(google.kEXPI));c+=\"&srcpg=\"+b(google.sn)+\"&jsr=\"+b(w.jsr)+\n",
      "\"&bver=\"+b(w.bv);w.dpf&&(c+=\"&dpf=\"+b(w.dpf));var f=a.lineNumber;f!==void 0&&(c+=\"&line=\"+f);var h=a.fileName;h&&(h.indexOf(\"-extension:/\")>0&&(e=3),c+=\"&script=\"+b(h),f&&h===window.location.href&&(f=document.documentElement.outerHTML.split(\"\\n\")[f],c+=\"&cad=\"+b(f?f.substring(0,300):\"No script found.\")));google.ple&&google.ple===1&&(e=2);c+=\"&jsel=\"+e;for(var v in d)c+=\"&\",c+=b(v),c+=\"=\",c+=b(d[v]);c=c+\"&emsg=\"+b(a.name+\": \"+a.message);c=c+\"&jsst=\"+b(a.stack||\"N/A\");c.length>=12288&&(c=c.substr(0,12288));a=c;n||google.log(0,\"\",a);return a};window.onerror=function(a,b,d,n,e){u!==a&&(a=e instanceof Error?e:Error(a),d===void 0||\"lineNumber\"in a||(a.lineNumber=d),b===void 0||\"fileName\"in a||(a.fileName=b),google.ml(a,!1,void 0,!1,a.name===\"SyntaxError\"||a.message.substring(0,11)===\"SyntaxError\"||a.message.indexOf(\"Script error\")!==-1?3:p));u=null;r&&t>=l&&(window.onerror=null)};})();</script></head><body bgcolor=\"#fff\"><script nonce=\"56W2H3X4ub5dkBZs319sGA\">(function(){var src='/images/nav_logo229.png';var iesg=false;document.body.onload = function(){window.n && window.n();if (document.images){new Image().src=src;}\n",
      "if (!iesg){document.f&&document.f.q.focus();document.gbqf&&document.gbqf.q.focus();}\n",
      "}\n",
      "})();</script><div id=\"mngb\"><div id=gbar><nobr><b class=gb1>Zoeken</b> <a class=gb1 href=\"https://www.google.com/imghp?hl=nl&tab=wi\">Afbeeldingen</a> <a class=gb1 href=\"https://maps.google.nl/maps?hl=nl&tab=wl\">Maps</a> <a class=gb1 href=\"https://play.google.com/?hl=nl&tab=w8\">Play</a> <a class=gb1 href=\"https://www.youtube.com/?tab=w1\">YouTube</a> <a class=gb1 href=\"https://news.google.com/?tab=wn\">Nieuws</a> <a class=gb1 href=\"https://mail.google.com/mail/?tab=wm\">Gmail</a> <a class=gb1 href=\"https://drive.google.com/?tab=wo\">Drive</a> <a class=gb1 style=\"text-decoration:none\" href=\"https://www.google.nl/intl/nl/about/products?tab=wh\"><u>Meer</u> &raquo;</a></nobr></div><div id=guser width=100%><nobr><span id=gbn class=gbi></span><span id=gbf class=gbf></span><span id=gbe></span><a href=\"http://www.google.nl/history/optout?hl=nl\" class=gb4>Webgeschiedenis</a> | <a  href=\"/preferences?hl=nl\" class=gb4>Instellingen</a> | <a target=_top id=gb_70 href=\"https://accounts.google.com/ServiceLogin?hl=nl&passive=true&continue=https://www.google.com/&ec=GAZAAQ\" class=gb4>Inloggen</a></nobr></div><div class=gbh style=left:0></div><div class=gbh style=right:0></div></div><center><br clear=\"all\" id=\"lgpd\"><div id=\"XjhHGf\"><a href=\"/search?sca_esv=9d62b89f1e8f3e7d&amp;ie=UTF-8&amp;q=maanfasen&amp;oi=ddle&amp;noiga=1&amp;ct=408023878&amp;hl=nl&amp;sa=X&amp;ved=0ahUKEwjE8L2H5vCMAxUAvokEHUVbJBoQPQgD\"><img alt=\"Opkomst van de halve maan\" border=\"0\" height=\"200\" src=\"/logos/doodles/2025/rise-of-the-half-moon-april-6753651837110767.2-l.png\" title=\"Opkomst van de halve maan\" width=\"500\" id=\"hplogo\"><br></a><br></div><form action=\"/search\" name=\"f\"><table cellpadding=\"0\" cellspacing=\"0\"><tr valign=\"top\"><td width=\"25%\">&nbsp;</td><td align=\"center\" nowrap=\"\"><input name=\"ie\" value=\"ISO-8859-1\" type=\"hidden\"><input value=\"nl\" name=\"hl\" type=\"hidden\"><input name=\"source\" type=\"hidden\" value=\"hp\"><input name=\"biw\" type=\"hidden\"><input name=\"bih\" type=\"hidden\"><div class=\"ds\" style=\"height:32px;margin:4px 0\"><input class=\"lst\" style=\"margin:0;padding:5px 8px 0 6px;vertical-align:top;color:#000\" autocomplete=\"off\" value=\"\" title=\"Google Zoeken\" maxlength=\"2048\" name=\"q\" size=\"57\"></div><br style=\"line-height:0\"><span class=\"ds\"><span class=\"lsbb\"><input class=\"lsb\" value=\"Google Zoeken\" name=\"btnG\" type=\"submit\"></span></span><span class=\"ds\"><span class=\"lsbb\"><input class=\"lsb\" id=\"tsuid_mT8KaITADID8ptQPxbaR0QE_1\" value=\"Ik doe een gok\" name=\"btnI\" type=\"submit\"><script nonce=\"56W2H3X4ub5dkBZs319sGA\">(function(){var id='tsuid_mT8KaITADID8ptQPxbaR0QE_1';document.getElementById(id).onclick = function(){if (this.form.q.value){this.checked = 1;if (this.form.iflsig)this.form.iflsig.disabled = false;}\n",
      "else top.location='/doodles/';};})();</script><input value=\"ACkRmUkAAAAAaApNqUSTukLHvfXpSSDkRAHSmtk7vooz\" name=\"iflsig\" type=\"hidden\"></span></span></td><td class=\"fl sblc\" align=\"left\" nowrap=\"\" width=\"25%\"><a href=\"/advanced_search?hl=nl&amp;authuser=0\">Geavanceerd zoeken</a></td></tr></table><input id=\"gbv\" name=\"gbv\" type=\"hidden\" value=\"1\"><script nonce=\"56W2H3X4ub5dkBZs319sGA\">(function(){var a,b=\"1\";if(document&&document.getElementById)if(typeof XMLHttpRequest!=\"undefined\")b=\"2\";else if(typeof ActiveXObject!=\"undefined\"){var c,d,e=[\"MSXML2.XMLHTTP.6.0\",\"MSXML2.XMLHTTP.3.0\",\"MSXML2.XMLHTTP\",\"Microsoft.XMLHTTP\"];for(c=0;d=e[c++];)try{new ActiveXObject(d),b=\"2\"}catch(h){}}a=b;if(a==\"2\"&&location.search.indexOf(\"&gbv=2\")==-1){var f=google.gbvu,g=document.getElementById(\"gbv\");g&&(g.value=a);f&&window.setTimeout(function(){location.href=f},0)};}).call(this);</script></form><div style=\"font-size:83%;min-height:3.5em\"><br><div id=\"gws-output-pages-elements-homepage_additional_languages__als\"><style>#gws-output-pages-elements-homepage_additional_languages__als{font-size:small;margin-bottom:24px}#SIvCob{color:#474747;display:inline-block;line-height:28px;}#SIvCob a{padding:0 3px;}.H6sW5{display:inline-block;margin:0 2px;white-space:nowrap}.z4hgWe{display:inline-block;margin:0 2px}</style><div id=\"SIvCob\">Google aangeboden in:  <a href=\"https://www.google.com/setprefs?sig=0_CyRCOE91BeNnOgehMYjueCUTeAo%3D&amp;hl=fy&amp;source=homepage&amp;sa=X&amp;ved=0ahUKEwjE8L2H5vCMAxUAvokEHUVbJBoQ2ZgBCAY\">Frysk</a>  </div></div></div><span id=\"footer\"><div style=\"font-size:10pt\"><div style=\"margin:19px auto;text-align:center\" id=\"WqQANb\"><a href=\"/intl/nl/ads/\">Adverteren</a><a href=\"http://www.google.nl/intl/nl/services/\">Bedrijfsoplossingen</a><a href=\"/intl/nl/about.html\">Alles over Google</a><a href=\"https://www.google.com/setprefdomain?prefdom=NL&amp;prev=https://www.google.nl/&amp;sig=K_Y43aXPUTdCDoBgBDFhuR237ifWY%3D\">Google.nl</a></div></div><p style=\"font-size:8pt;color:#70757a\">&copy; 2025 - <a href=\"/intl/nl/policies/privacy/\">Privacy</a> - <a href=\"/intl/nl/policies/terms/\">Voorwaarden</a></p></span></center><script nonce=\"56W2H3X4ub5dkBZs319sGA\">(function(){window.google.cdo={height:757,width:1440};(function(){var a=window.innerWidth,b=window.innerHeight;if(!a||!b){var c=window.document,d=c.compatMode==\"CSS1Compat\"?c.documentElement:c.body;a=d.clientWidth;b=d.clientHeight}if(a&&b&&(a!=google.cdo.width||b!=google.cdo.height)){var e=google,f=e.log,g=\"/client_204?&atyp=i&biw=\"+a+\"&bih=\"+b+\"&ei=\"+google.kEI,h=\"\",k=window.google&&window.google.kOPI||null;k&&(h+=\"&opi=\"+k);f.call(e,\"\",\"\",g+h)};}).call(this);})();(function(){google.xjs={basecomb:'/xjs/_/js/k\\x3dxjs.hp.en.QZqkiNuZhNE.es5.O/ck\\x3dxjs.hp.VdAoJ6_5Pes.L.X.O/am\\x3dAAAAAAAQAAAAAAAAAAAAAAAAAAAAAAAAAADAICgIAAABAAAAAAAAAAACAAigFAEQBwAAAEIACBAAAAAAAAAAAAAAAAAACQCAAAAAAgAAAIjvCAAIwCIAAF4/d\\x3d1/ed\\x3d1/dg\\x3d0/ujg\\x3d1/rs\\x3dACT90oEczZ3rgOiFFfUSbihsePcaE3mtlw',basecss:'/xjs/_/ss/k\\x3dxjs.hp.VdAoJ6_5Pes.L.X.O/am\\x3dAAAAAAAQAAAAAAAAAAAAAAAAAAAAAAAAAADAIAgIAAABAAAAAAAAAAACAAigFAAQAAAAAEIACBAAAAAAAAAAAAAAAAAACQCAAAAAAg/rs\\x3dACT90oG9lZKd9WZ_t3_Mycy68aUzmSO2Vg',basejs:'/xjs/_/js/k\\x3dxjs.hp.en.QZqkiNuZhNE.es5.O/am\\x3dAAAAAAAAAAAAAAAAAAAAAAAAAAAAAAAAAAAAACAAAAAAAAAAAAAAAAACAAAAAAEABwAAAAAAAAAAAAAAAAAAAAAAAAAAAAAAAAAAAAAAAIjvCAAIwCIAAF4/dg\\x3d0/rs\\x3dACT90oH17xb4US9XQcZsCJ2YBvMK7TESXw',excm:[]};})();(function(){var u='/xjs/_/js/k\\x3dxjs.hp.en.QZqkiNuZhNE.es5.O/am\\x3dAAAAAAAAAAAAAAAAAAAAAAAAAAAAAAAAAAAAACAAAAAAAAAAAAAAAAACAAAAAAEABwAAAAAAAAAAAAAAAAAAAAAAAAAAAAAAAAAAAAAAAIjvCAAIwCIAAF4/d\\x3d1/ed\\x3d1/dg\\x3d3/rs\\x3dACT90oH17xb4US9XQcZsCJ2YBvMK7TESXw/m\\x3dsb_he,d';var st=1;var amd=1000;var mmd=0;var pod=true;var pop=true;var povp=false;var fp='';\n",
      "var e=this||self;function f(){var b,a,d;if(a=b=(a=window.google)==null?void 0:(d=a.ia)==null?void 0:d.r.B2Jtyd)a=b.m,a=a===1||a===5;return a&&b.cbfd!=null&&b.cbvi!=null?b:void 0};function g(){var b=[u];if(!google.dp){for(var a=0;a<b.length;a++){var d=b[a],c=document.createElement(\"link\");c.as=\"script\";c.href=d;c.rel=\"preload\";document.body.appendChild(c)}google.dp=!0}};google.ps===void 0&&(google.ps=[]);function h(){var b=u,a=function(){};google.lx=google.stvsc?a:function(){k(b);google.lx=a};google.bx||google.lx()}function l(b,a){a&&(b.src=a);fp&&(b.fetchPriority=fp);var d=b.onload;b.onload=function(c){d&&d(c);google.ps=google.ps.filter(function(G){return b!==G})};google.ps.push(b);document.body.appendChild(b)}google.as=l;function k(b){google.timers&&google.timers.load&&google.tick&&google.tick(\"load\",\"xjsls\");var a=document.createElement(\"script\");a.onerror=function(){google.ple=1};a.onload=function(){google.ple=0};google.xjsus=void 0;l(a,b);google.aple=-1;google.dp=!0};function m(b){var a=b.getAttribute(\"jscontroller\");return(a===\"UBXHI\"||a===\"R3fhkb\"||a===\"TSZEqd\")&&b.hasAttribute(\"data-src\")}function n(){for(var b=document.getElementsByTagName(\"img\"),a=0,d=b.length;a<d;a++){var c=b[a];if(c.hasAttribute(\"data-lzy_\")&&Number(c.getAttribute(\"data-atf\"))&1&&!m(c))return!0}return!1}for(var p=document.getElementsByTagName(\"img\"),q=0,r=p.length;q<r;++q){var t=p[q];Number(t.getAttribute(\"data-atf\"))&1&&m(t)&&(t.src=t.getAttribute(\"data-src\"))};var w,x,y,z,A,B,C,D,E,F;function H(){google.xjsu=u;e._F_jsUrl=u;A=function(){h()};w=!1;x=(st===1||st===3)&&!!google.caft&&!n();y=f();z=(st===2||st===3)&&!!y&&!n();B=pod;C=pop;D=povp;E=pop&&document.prerendering||povp&&document.hidden;F=D?\"visibilitychange\":\"prerenderingchange\"}function I(){w||x||z||E||(A(),w=!0)}\n",
      "setTimeout(function(){google&&google.tick&&google.timers&&google.timers.load&&google.tick(\"load\",\"xjspls\");H();if(x||z||E){if(x){var b=function(){x=!1;I()};google.caft(b);window.setTimeout(b,amd)}z&&(b=function(){z=!1;I()},y.cbvi.push(b),window.setTimeout(b,mmd));if(E){var a=function(){(D?document.hidden:document.prerendering)||(E=!1,I(),document.removeEventListener(F,a))};document.addEventListener(F,a,{passive:!0})}if(B||C||D)w||g()}else A()},0);})();window._ = window._ || {};window._DumpException = _._DumpException = function(e){throw e;};window._s = window._s || {};_s._DumpException = _._DumpException;window._qs = window._qs || {};_qs._DumpException = _._DumpException;(function(){var t=[0,16384,0,0,0,0,0,34211888,65536,16384,742391808,673112064,252707092,134217729,16809988,8650752,0,0,36864,537018400,2,2342432,36454528,1540096];window._F_toggles = window._xjs_toggles = t;})();window._F_installCss = window._F_installCss || function(css){};(function(){google.jl={bfl:0,dw:false,ine:false,injs:'none',injt:0,injth:0,injv2:false,ubm:false,uwp:true,vs:false};})();(function(){var pmc='{\\x22d\\x22:{},\\x22sb_he\\x22:{\\x22client\\x22:\\x22heirloom-hp\\x22,\\x22dh\\x22:true,\\x22ds\\x22:\\x22\\x22,\\x22host\\x22:\\x22google.com\\x22,\\x22jsonp\\x22:true,\\x22msgs\\x22:{\\x22cibl\\x22:\\x22Zoekopdracht wissen\\x22,\\x22dym\\x22:\\x22Bedoelde je:\\x22,\\x22lcky\\x22:\\x22Ik doe een gok\\x22,\\x22lml\\x22:\\x22Meer informatie\\x22,\\x22psrc\\x22:\\x22Deze zoekopdracht is verwijderd uit je \\\\u003Ca href\\x3d\\\\\\x22/history\\\\\\x22\\\\u003EWebgeschiedenis\\\\u003C/a\\\\u003E\\x22,\\x22psrl\\x22:\\x22Verwijderen\\x22,\\x22sbit\\x22:\\x22Zoeken op afbeelding\\x22,\\x22srch\\x22:\\x22Google Zoeken\\x22},\\x22ovr\\x22:{},\\x22pq\\x22:\\x22\\x22,\\x22rfs\\x22:[],\\x22stok\\x22:\\x22zCFQ_dvEDgXentadnfemF-gzPd0\\x22}}';google.pmc=JSON.parse(pmc);})();</script>       </body></html>\n"
     ]
    }
   ],
   "source": [
    "import requests\n",
    "\n",
    "response = requests.get(\"https://google.com\")\n",
    "\n",
    "print(\"Respnse status code: \", response.status_code)\n",
    "print(\"Response headers: \", response.headers)\n",
    "print(\"Response text: \", response.text)"
   ]
  },
  {
   "cell_type": "markdown",
   "metadata": {},
   "source": [
    "Note that running the above code cell should work without having to\n",
    "install `requests` library.  This is because `requests` was already\n",
    "installed when you installed `jupyter`, because the authors of\n",
    "`jupyter` decided to use `requests` in their code.\n",
    "\n",
    "You can find [requests library documentation][requests-docs] from its\n",
    "[PyPI][pypi] Python Package Index [project page][requests].\n",
    "\n",
    "[requests]: https://pypi.org/project/requests/\n",
    "[requests-docs]: https://requests.readthedocs.io/en/latest/\n",
    "\n",
    "## The Python Package Index (PyPI)\n",
    "\n",
    "In the beginning of this week's tutorial, we used [pip] to install\n",
    "some Python packages.  What happens when you run `pip install`\n",
    "something though?  How does `pip` find the packages it need to\n",
    "install?\n",
    "\n",
    "[pip]: https://pip.pypa.io/en/stable/\n",
    "\n",
    "By default, `pip` will search the [Python Package Index][pypi] (also\n",
    "known as \"PyPI\") for the package by name, download the appropriate\n",
    "version of the package, and install it in your machine.  If the\n",
    "package depends on other packages, pip would install those other\n",
    "packages also, if they are not already installed.\n",
    "\n",
    "[pypi]: https://pypi.org/\n",
    "\n",
    "PyPI is a large repository of Python packages maintained by the\n",
    "[Python Software Foundation][psf], a non-profit organization that is\n",
    "responsible for development and maintenance of the Python programming\n",
    "language and its infrastructure.\n",
    "\n",
    "[psf]: https://www.python.org/psf-landing/\n",
    "\n",
    "PyPI happens to be Python's official package repository, and the most\n",
    "popular one.  There are other repositories also (such as [TestPyPI]),\n",
    "and you can install packages from those other repositories, should you\n",
    "ever need to do so.  You can even install packages from certain other\n",
    "sources such as their git repositories.\n",
    "\n",
    "[TestPyPI]: https://test.pypi.org/\n",
    "\n",
    "## Anaconda and Conda\n",
    "\n",
    "[Anaconda] is a commercially supported \"Python distribution\".\n",
    "Anaconda provides a curated collection of software that uses a\n",
    "different packaging format, and it is not necessarily tied to just\n",
    "Python.  There are Anaconda packages written in other programming\n",
    "languages also.  Similar to `pip`, `conda` is Anaconda's package\n",
    "manager, and [Anaconda.org] is its package repository.\n",
    "\n",
    "Although we are not going to the details now, Anaconda is popular in\n",
    "science, AI, and data science communities, so they are worth\n",
    "mentioning here.\n",
    "\n",
    "[Anaconda]: https://www.anaconda.com/\n",
    "[Anaconda.org]: https://anaconda.org/\n",
    "\n",
    "\n",
    "## Yet another example: the NumPy package\n",
    "\n",
    "The `math` module is part of the Python standard library.  It\n",
    "implements a routines to calculate few standard functions and some\n",
    "basic probability distributions.  \n",
    "\n",
    "However, since Python's built-in support for numerical calculations is\n",
    "limited in efficiency and performance, people often reach for the\n",
    "famous [NumPy] package. \n",
    "\n",
    "[NumPy]: https://numpy.org/\n",
    "\n",
    "NumPy makes numerically-intensive programming easier and makes code\n",
    "run faster. It brings it's own datatype to the game: an actual array!\n",
    "Numpy's arrays are quite fast -- substantially faster than Python's\n",
    "regular way of representing arrays as \"lists of lists\" (or in three\n",
    "dimensions, \"lists of lists of lists\" and so forth.\n",
    "\n",
    "The critical NumPy data type is the array.  NumPy arrays are faster\n",
    "and more compact than Python lists. A NumPy array consumes less memory\n",
    "and is convenient to use.  You can find an excellent\n",
    "[introduction][numpy-intro] to NumPy in the project's website.\n",
    "\n",
    "[numpy-intro]: https://numpy.org/doc/stable/user/absolute_beginners.html\n",
    "\n",
    "In this notebook, let us work through some NumPy examples.  First,\n",
    "let's tell Python we want to use numpy:"
   ]
  },
  {
   "cell_type": "code",
   "execution_count": 3,
   "metadata": {},
   "outputs": [],
   "source": [
    "import numpy as np"
   ]
  },
  {
   "cell_type": "markdown",
   "metadata": {},
   "source": [
    "The `as np` part lets us specify a _namespace_, in this case a nice,\n",
    "short name so we don't have to type out `numpy` _every single time_.\n",
    "\n",
    "The one caveat with NumPy arrays is that all the elements inside an\n",
    "array need to have the same data type (e.g. integer, float, double).\n",
    "\n",
    "Now we can create an array or two:"
   ]
  },
  {
   "cell_type": "code",
   "execution_count": 4,
   "metadata": {},
   "outputs": [
    {
     "name": "stdout",
     "output_type": "stream",
     "text": [
      "[[ 1  2  3  4]\n",
      " [ 5  6  7  8]\n",
      " [ 9 10 11 12]]\n"
     ]
    }
   ],
   "source": [
    "a = np.array([[1,2,3,4], [5,6,7,8], [9,10,11,12]])\n",
    "print(a)"
   ]
  },
  {
   "cell_type": "markdown",
   "metadata": {},
   "source": [
    "The `array()` function will turn nested lists into an array.\n",
    "You can also make new arrays by asking for a zero array of a given size"
   ]
  },
  {
   "cell_type": "code",
   "execution_count": 5,
   "metadata": {},
   "outputs": [
    {
     "name": "stdout",
     "output_type": "stream",
     "text": [
      "[0. 0. 0.]\n"
     ]
    }
   ],
   "source": [
    "z = np.zeros(3)\n",
    "print(z)"
   ]
  },
  {
   "cell_type": "markdown",
   "metadata": {},
   "source": [
    "or ones:"
   ]
  },
  {
   "cell_type": "code",
   "execution_count": 6,
   "metadata": {},
   "outputs": [
    {
     "name": "stdout",
     "output_type": "stream",
     "text": [
      "[[1. 1. 1.]\n",
      " [1. 1. 1.]\n",
      " [1. 1. 1.]]\n"
     ]
    }
   ],
   "source": [
    "m = np.ones((3,3))\n",
    "print(m)"
   ]
  },
  {
   "cell_type": "markdown",
   "metadata": {},
   "source": [
    "(note that the dimensions are given as a _tuple_).\n",
    "\n",
    "You can also element-wise add, subtract, or multiply:"
   ]
  },
  {
   "cell_type": "code",
   "execution_count": 7,
   "metadata": {},
   "outputs": [
    {
     "data": {
      "text/plain": [
       "array([3., 3., 3.])"
      ]
     },
     "execution_count": 7,
     "metadata": {},
     "output_type": "execute_result"
    }
   ],
   "source": [
    "z + 3"
   ]
  },
  {
   "cell_type": "markdown",
   "metadata": {},
   "source": [
    "Or"
   ]
  },
  {
   "cell_type": "code",
   "execution_count": 8,
   "metadata": {},
   "outputs": [
    {
     "data": {
      "text/plain": [
       "array([[1, 0, 1, 0],\n",
       "       [1, 0, 1, 0],\n",
       "       [1, 0, 1, 0]])"
      ]
     },
     "execution_count": 8,
     "metadata": {},
     "output_type": "execute_result"
    }
   ],
   "source": [
    "a % 2"
   ]
  },
  {
   "cell_type": "markdown",
   "metadata": {},
   "source": [
    "Comparisons are element wise"
   ]
  },
  {
   "cell_type": "code",
   "execution_count": 9,
   "metadata": {},
   "outputs": [
    {
     "data": {
      "text/plain": [
       "array([[False, False, False, False],\n",
       "       [False,  True,  True,  True],\n",
       "       [ True,  True,  True,  True]])"
      ]
     },
     "execution_count": 9,
     "metadata": {},
     "output_type": "execute_result"
    }
   ],
   "source": [
    "a > 5"
   ]
  },
  {
   "cell_type": "markdown",
   "metadata": {},
   "source": [
    "You can get the dimensions of an array by querying its `.shape`\n",
    "property:"
   ]
  },
  {
   "cell_type": "code",
   "execution_count": 10,
   "metadata": {},
   "outputs": [
    {
     "name": "stdout",
     "output_type": "stream",
     "text": [
      "(3, 4)\n",
      "(3, 3)\n",
      "(3,)\n"
     ]
    }
   ],
   "source": [
    "print(a.shape)\n",
    "print(m.shape)\n",
    "print(z.shape)"
   ]
  },
  {
   "cell_type": "markdown",
   "metadata": {},
   "source": [
    "The `shape` property returns us a _tuple_ that tells us how many\n",
    "elements there are in each dimension.  The number of elements in the\n",
    "tuple tells us how many dimensions the array has.\n",
    "\n",
    "### NumPy Linear Algebra\n",
    "\n",
    "Let's do a little bit of linear algebra. NumPy has routines to do\n",
    "basic linear algebra, such as finding a matrix inverse, or solving a\n",
    "linear system.\n",
    "\n",
    "We will need to bring in the [linalg] (\"linear algebra\") part of\n",
    "NumPy, which would be the `numpy.linalg` module.  We will use the name\n",
    "`nl` as a shorthand for `numpy.linalg`.\n",
    "\n",
    "[linalg]: https://numpy.org/doc/stable/reference/routines.linalg.html"
   ]
  },
  {
   "cell_type": "code",
   "execution_count": 11,
   "metadata": {},
   "outputs": [
    {
     "data": {
      "text/plain": [
       "array([[ 0.,  0.,  1.],\n",
       "       [-0.,  1., -1.],\n",
       "       [ 1., -1., -0.]])"
      ]
     },
     "execution_count": 11,
     "metadata": {},
     "output_type": "execute_result"
    }
   ],
   "source": [
    "import numpy.linalg as nl\n",
    "\n",
    "k = np.array([[1,1,1], [1,1,0], [1,0,0]])\n",
    "\n",
    "kinv = nl.inv(k)\n",
    "kinv"
   ]
  },
  {
   "cell_type": "markdown",
   "metadata": {},
   "source": [
    "Matrix multiplication, anyone? Python has the `@` operator for exactly\n",
    "that:"
   ]
  },
  {
   "cell_type": "code",
   "execution_count": 12,
   "metadata": {},
   "outputs": [
    {
     "data": {
      "text/plain": [
       "array([[1., 0., 0.],\n",
       "       [0., 1., 0.],\n",
       "       [0., 0., 1.]])"
      ]
     },
     "execution_count": 12,
     "metadata": {},
     "output_type": "execute_result"
    }
   ],
   "source": [
    "k @ kinv"
   ]
  },
  {
   "cell_type": "markdown",
   "metadata": {},
   "source": [
    "For a complete list of operators, see: [Mapping Operators to\n",
    "Functions][op-table].\n",
    "\n",
    "[op-table]: http://docs.python.org/library/operator.html#mapping-operators-to-functions\n",
    "\n",
    "## Matrix visualization\n",
    "\n",
    "We can use [matplotlib] to visualize matrices:\n",
    "\n",
    "[matplotlib]: https://matplotlib.org/"
   ]
  },
  {
   "cell_type": "code",
   "execution_count": 13,
   "metadata": {},
   "outputs": [
    {
     "data": {
      "text/plain": [
       "<matplotlib.image.AxesImage at 0x7f885f731a10>"
      ]
     },
     "execution_count": 13,
     "metadata": {},
     "output_type": "execute_result"
    },
    {
     "data": {
      "image/png": "[encoded data removed]",
      "text/plain": [
       "<Figure size 640x480 with 1 Axes>"
      ]
     },
     "metadata": {},
     "output_type": "display_data"
    }
   ],
   "source": [
    "import matplotlib.pyplot as plt\n",
    "plt.matshow(a)"
   ]
  },
  {
   "cell_type": "markdown",
   "metadata": {},
   "source": [
    "## Further steps\n",
    "\n",
    "We have only scratched the surface of what numpy can do. Imagine how\n",
    "much the other thousands of Python packages can do!  The nice thing\n",
    "about software development, when it's done correctly, is that pieces\n",
    "build on top of other pieces.\n",
    "\n",
    "The [SciPy] package, for instance, has modules for integration,\n",
    "differentiation, linear algebra, signal processing, image processing\n",
    "(which is special case of signal processing), and so on.  Lots of\n",
    "packages then build on top of SciPy.\n",
    "\n",
    "[SciPy]: https://scipy.org/\n",
    "\n",
    "In the [next notebook](./4-plot-ligo-data.ipynb), we will download\n",
    "some LIGO data and write some code to explore the data."
   ]
  }
 ],
 "metadata": {
  "kernelspec": {
   "display_name": "Python 3 (ipykernel)",
   "language": "python",
   "name": "python3"
  },
  "language_info": {
   "codemirror_mode": {
    "name": "ipython",
    "version": 3
   },
   "file_extension": ".py",
   "mimetype": "text/x-python",
   "name": "python",
   "nbconvert_exporter": "python",
   "pygments_lexer": "ipython3",
   "version": "3.11.2"
  }
 },
 "nbformat": 4,
 "nbformat_minor": 4
}
