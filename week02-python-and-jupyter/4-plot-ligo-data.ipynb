{
  "cells": [
    {
      "cell_type": "markdown",
      "metadata": {},
      "source": [
        "# Plot LIGO data\n",
        "\n",
        "You should have downloaded a file named\n",
        "`H-H2_LOSC_4_V1-815235072-4096.hdf5` from LIGO, following the README\n",
        "of this week.  Let open this file using the h5py library that we had\n",
        "installed earlier and explore the data in the file."
      ]
    },
    {
      "cell_type": "code",
      "metadata": {},
      "source": [
        "import h5py\n",
        "data = h5py.File('H-H2_LOSC_4_V1-815235072-4096.hdf5', 'r')"
      ],
      "execution_count": null,
      "outputs": []
    },
    {
      "cell_type": "markdown",
      "metadata": {},
      "source": [
        "We can look at the dataset:"
      ]
    },
    {
      "cell_type": "code",
      "metadata": {},
      "source": [
        "for k in data.keys():\n",
        "    print(k)"
      ],
      "execution_count": null,
      "outputs": []
    },
    {
      "cell_type": "markdown",
      "metadata": {},
      "source": [
        "And:"
      ]
    },
    {
      "cell_type": "code",
      "metadata": {},
      "source": [
        "for k,v in data['meta'].items():\n",
        "    print(k,v)"
      ],
      "execution_count": null,
      "outputs": []
    },
    {
      "cell_type": "markdown",
      "metadata": {},
      "source": [
        "That is not quite what we want:"
      ]
    },
    {
      "cell_type": "code",
      "metadata": {},
      "source": [
        "for k,v in data['meta'].items():\n",
        "    print(k,v[...])"
      ],
      "execution_count": null,
      "outputs": []
    },
    {
      "cell_type": "markdown",
      "metadata": {},
      "source": [
        "Let us load some of the data into an array, and plot the array using\n",
        "matplotlib:"
      ]
    },
    {
      "cell_type": "code",
      "metadata": {},
      "source": [
        "import matplotlib.pyplot as plt\n",
        "\n",
        "strain = data['strain']['Strain']\n",
        "N = 5000\n",
        "plt.plot(range(N), strain[:N])"
      ],
      "execution_count": null,
      "outputs": []
    }
  ],
  "metadata": {
    "kernelspec": {
      "name": "python3",
      "language": "python",
      "display_name": "Python 3 (ipykernel)"
    }
  },
  "nbformat": 4,
  "nbformat_minor": 4
}