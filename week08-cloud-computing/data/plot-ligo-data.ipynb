{
  "cells": [
    {
      "cell_type": "markdown",
      "metadata": {},
      "source": [
        "# Plot LIGO data\n",
        "\n",
        "In week 2 tutorial, we downloaded some data from the LIGO observatory,\n",
        "and plotted it in a notebook.  We will use the same notebook with some\n",
        "small modifications.\n",
        "\n",
        "The LIGO data file from week 2, `H-H2_LOSC_4_V1-815235072-4096.hdf5`,\n",
        "is already in an object store.  The store we use is [DigitalOcean\n",
        "Spaces][do-spaces], which offers [an API][aws-s3-api] that is\n",
        "compatible with [Amazon S3][aws-s3] (Simple Storage Service), so we\n",
        "can use the same popular tools and libraries that people use with AWS\n",
        "S3 here.\n",
        "\n",
        "[do-spaces]: https://www.digitalocean.com/products/spaces\n",
        "[aws-s3]: https://aws.amazon.com/s3/\n",
        "[aws-s3-api]: https://docs.aws.amazon.com/AmazonS3/latest/API/Welcome.html\n",
        "\n",
        "We will install some Python packages to work with this file:\n",
        "\n",
        "- [boto3], so that we can read data from the object store.\n",
        "- [h5py], so that we can parse HDF5 data.\n",
        "- [matplotlib], so that we can plot the data.\n",
        "\n",
        "[boto3]: https://pypi.org/project/boto3/\n",
        "[h5py]: https://pypi.org/project/h5py/\n",
        "[matplotlib]: https://pypi.org/project/matplotlib/\n",
        "\n",
        "Let us install the libraries first:"
      ]
    },
    {
      "cell_type": "code",
      "metadata": {},
      "source": [
        "!pip install boto3 h5py matplotlib"
      ],
      "execution_count": null,
      "outputs": []
    },
    {
      "cell_type": "markdown",
      "metadata": {},
      "source": [
        "Now we can get the file from Spaces using `boto3`, and explore the\n",
        "data in the file with `h5py`."
      ]
    },
    {
      "cell_type": "code",
      "metadata": {},
      "source": [
        "import boto3\n",
        "import h5py\n",
        "import io\n",
        "from botocore import UNSIGNED\n",
        "from botocore.client import Config\n",
        "\n",
        "# DigitalOcean Spaces details\n",
        "bucket_name = 'cicf-object-store'                  # Our bucket name\n",
        "object_key = 'H-H2_LOSC_4_V1-815235072-4096.hdf5'  # Our HDF5 file key\n",
        "region = 'nyc3'                                    # Our Spaces region\n",
        "endpoint_url = f'https://{region}.digitaloceanspaces.com'\n",
        "\n",
        "# Create an anonymous S3 client for DigitalOcean Spaces\n",
        "s3_client = boto3.client(\n",
        "    's3',\n",
        "    endpoint_url=endpoint_url,\n",
        "    config=Config(signature_version=UNSIGNED)  # Anonymous access\n",
        ")\n",
        "\n",
        "# Fetch the HDF5 file anonymously\n",
        "try:\n",
        "    print(f\"Getting {object_key} from {bucket_name}...\")\n",
        "    response = s3_client.get_object(Bucket=bucket_name, Key=object_key)\n",
        "    file_data = response['Body'].read()  # Read the file into memory as bytes\n",
        "    print(f\"Got some data from {bucket_name}\")\n",
        "except Exception as e:\n",
        "    print(f\"Error fetching file: {e}\")\n",
        "\n",
        "# Create a seekable buffer for h5py\n",
        "file_buffer = io.BytesIO(file_data)\n",
        "\n",
        "# Open the HDF5 file with h5py\n",
        "try:\n",
        "    print(f\"Looking at {object_key} data with h5py...\")\n",
        "    data = h5py.File(file_buffer, 'r')\n",
        "except Exception as e:\n",
        "    print(f\"Error reading HDF5 file: {e}\")"
      ],
      "execution_count": null,
      "outputs": []
    },
    {
      "cell_type": "markdown",
      "metadata": {},
      "source": [
        "We can look at the dataset:"
      ]
    },
    {
      "cell_type": "code",
      "metadata": {},
      "source": [
        "for k in data.keys():\n",
        "    print(k)"
      ],
      "execution_count": null,
      "outputs": []
    },
    {
      "cell_type": "markdown",
      "metadata": {},
      "source": [
        "And:"
      ]
    },
    {
      "cell_type": "code",
      "metadata": {},
      "source": [
        "for k,v in data['meta'].items():\n",
        "    print(k,v)"
      ],
      "execution_count": null,
      "outputs": []
    },
    {
      "cell_type": "markdown",
      "metadata": {},
      "source": [
        "That is not quite what we want:"
      ]
    },
    {
      "cell_type": "code",
      "metadata": {},
      "source": [
        "for k,v in data['meta'].items():\n",
        "    print(k,v[...])"
      ],
      "execution_count": null,
      "outputs": []
    },
    {
      "cell_type": "markdown",
      "metadata": {},
      "source": [
        "Let us load some of the data into an array, and plot the array using\n",
        "matplotlib:"
      ]
    },
    {
      "cell_type": "code",
      "metadata": {},
      "source": [
        "import matplotlib.pyplot as plt\n",
        "\n",
        "strain = data['strain']['Strain']\n",
        "N = 5000\n",
        "plt.plot(range(N), strain[:N])"
      ],
      "execution_count": null,
      "outputs": []
    }
  ],
  "metadata": {
    "kernelspec": {
      "display_name": "Python 3",
      "language": "python",
      "name": "python3"
    }
  },
  "nbformat": 4,
  "nbformat_minor": 4
}